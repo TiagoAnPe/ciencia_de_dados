{
  "nbformat": 4,
  "nbformat_minor": 0,
  "metadata": {
    "colab": {
      "provenance": []
    },
    "kernelspec": {
      "name": "python3",
      "display_name": "Python 3"
    },
    "language_info": {
      "name": "python"
    }
  },
  "cells": [
    {
      "cell_type": "markdown",
      "source": [
        "Modelo simples sobre empréstimo bancario utilizando técnicas básicas de análise de dados, machine learning e tuning de parametros "
      ],
      "metadata": {
        "id": "VO0vMWtZrYy7"
      }
    },
    {
      "cell_type": "code",
      "source": [
        "pip install category_encoders"
      ],
      "metadata": {
        "colab": {
          "base_uri": "https://localhost:8080/"
        },
        "id": "q8g4XQUayYIo",
        "outputId": "160ee66c-7c9d-4843-b95b-17d91f01742f"
      },
      "execution_count": null,
      "outputs": [
        {
          "output_type": "stream",
          "name": "stdout",
          "text": [
            "Looking in indexes: https://pypi.org/simple, https://us-python.pkg.dev/colab-wheels/public/simple/\n",
            "Requirement already satisfied: category_encoders in /usr/local/lib/python3.8/dist-packages (2.5.1.post0)\n",
            "Requirement already satisfied: pandas>=1.0.5 in /usr/local/lib/python3.8/dist-packages (from category_encoders) (1.3.5)\n",
            "Requirement already satisfied: patsy>=0.5.1 in /usr/local/lib/python3.8/dist-packages (from category_encoders) (0.5.3)\n",
            "Requirement already satisfied: scipy>=1.0.0 in /usr/local/lib/python3.8/dist-packages (from category_encoders) (1.7.3)\n",
            "Requirement already satisfied: scikit-learn>=0.20.0 in /usr/local/lib/python3.8/dist-packages (from category_encoders) (1.0.2)\n",
            "Requirement already satisfied: numpy>=1.14.0 in /usr/local/lib/python3.8/dist-packages (from category_encoders) (1.21.6)\n",
            "Requirement already satisfied: statsmodels>=0.9.0 in /usr/local/lib/python3.8/dist-packages (from category_encoders) (0.12.2)\n",
            "Requirement already satisfied: python-dateutil>=2.7.3 in /usr/local/lib/python3.8/dist-packages (from pandas>=1.0.5->category_encoders) (2.8.2)\n",
            "Requirement already satisfied: pytz>=2017.3 in /usr/local/lib/python3.8/dist-packages (from pandas>=1.0.5->category_encoders) (2022.6)\n",
            "Requirement already satisfied: six in /usr/local/lib/python3.8/dist-packages (from patsy>=0.5.1->category_encoders) (1.15.0)\n",
            "Requirement already satisfied: threadpoolctl>=2.0.0 in /usr/local/lib/python3.8/dist-packages (from scikit-learn>=0.20.0->category_encoders) (3.1.0)\n",
            "Requirement already satisfied: joblib>=0.11 in /usr/local/lib/python3.8/dist-packages (from scikit-learn>=0.20.0->category_encoders) (1.2.0)\n"
          ]
        }
      ]
    },
    {
      "cell_type": "code",
      "execution_count": null,
      "metadata": {
        "id": "jG7oT3e_NFvT"
      },
      "outputs": [],
      "source": [
        "import pandas as pd\n",
        "import matplotlib.pyplot as plt\n",
        "import seaborn as sns\n",
        "from sklearn.preprocessing import OneHotEncoder, LabelEncoder\n",
        "from category_encoders.one_hot import OneHotEncoder"
      ]
    },
    {
      "cell_type": "code",
      "source": [
        "from google.colab import drive\n",
        "drive.mount('/content/drive')\n",
        "\n",
        "# Alterar de acordo com o caminho do drive\n",
        "drivepath='/content/drive/MyDrive/dataset/Loan_Data.csv'"
      ],
      "metadata": {
        "colab": {
          "base_uri": "https://localhost:8080/"
        },
        "id": "Drd8BK-thskX",
        "outputId": "2aee1bb6-eaaa-40b2-cb4d-c04ff13c57b5"
      },
      "execution_count": null,
      "outputs": [
        {
          "output_type": "stream",
          "name": "stdout",
          "text": [
            "Drive already mounted at /content/drive; to attempt to forcibly remount, call drive.mount(\"/content/drive\", force_remount=True).\n"
          ]
        }
      ]
    },
    {
      "cell_type": "code",
      "source": [
        "df = pd.read_csv('/content/drive/MyDrive/dataset/Loan_Data.csv')"
      ],
      "metadata": {
        "id": "XNN51xUtiTWL"
      },
      "execution_count": null,
      "outputs": []
    },
    {
      "cell_type": "code",
      "source": [
        "df.head(2)"
      ],
      "metadata": {
        "colab": {
          "base_uri": "https://localhost:8080/",
          "height": 112
        },
        "id": "TnWBT6aCN6wB",
        "outputId": "381a59ac-566b-44c4-8e6b-05e54e157873"
      },
      "execution_count": null,
      "outputs": [
        {
          "output_type": "execute_result",
          "data": {
            "text/plain": [
              "    Loan_ID Gender Married Dependents Education Self_Employed  \\\n",
              "0  LP001002   Male      No          0  Graduate            No   \n",
              "1  LP001003   Male     Yes          1  Graduate            No   \n",
              "\n",
              "   ApplicantIncome  CoapplicantIncome  LoanAmount  Loan_Amount_Term  \\\n",
              "0             5849                0.0         NaN             360.0   \n",
              "1             4583             1508.0       128.0             360.0   \n",
              "\n",
              "   Credit_History Property_Area Loan_Status  \n",
              "0             1.0         Urban           Y  \n",
              "1             1.0         Rural           N  "
            ],
            "text/html": [
              "\n",
              "  <div id=\"df-3d6db469-4666-4a06-8473-e5c8dd0b9d4c\">\n",
              "    <div class=\"colab-df-container\">\n",
              "      <div>\n",
              "<style scoped>\n",
              "    .dataframe tbody tr th:only-of-type {\n",
              "        vertical-align: middle;\n",
              "    }\n",
              "\n",
              "    .dataframe tbody tr th {\n",
              "        vertical-align: top;\n",
              "    }\n",
              "\n",
              "    .dataframe thead th {\n",
              "        text-align: right;\n",
              "    }\n",
              "</style>\n",
              "<table border=\"1\" class=\"dataframe\">\n",
              "  <thead>\n",
              "    <tr style=\"text-align: right;\">\n",
              "      <th></th>\n",
              "      <th>Loan_ID</th>\n",
              "      <th>Gender</th>\n",
              "      <th>Married</th>\n",
              "      <th>Dependents</th>\n",
              "      <th>Education</th>\n",
              "      <th>Self_Employed</th>\n",
              "      <th>ApplicantIncome</th>\n",
              "      <th>CoapplicantIncome</th>\n",
              "      <th>LoanAmount</th>\n",
              "      <th>Loan_Amount_Term</th>\n",
              "      <th>Credit_History</th>\n",
              "      <th>Property_Area</th>\n",
              "      <th>Loan_Status</th>\n",
              "    </tr>\n",
              "  </thead>\n",
              "  <tbody>\n",
              "    <tr>\n",
              "      <th>0</th>\n",
              "      <td>LP001002</td>\n",
              "      <td>Male</td>\n",
              "      <td>No</td>\n",
              "      <td>0</td>\n",
              "      <td>Graduate</td>\n",
              "      <td>No</td>\n",
              "      <td>5849</td>\n",
              "      <td>0.0</td>\n",
              "      <td>NaN</td>\n",
              "      <td>360.0</td>\n",
              "      <td>1.0</td>\n",
              "      <td>Urban</td>\n",
              "      <td>Y</td>\n",
              "    </tr>\n",
              "    <tr>\n",
              "      <th>1</th>\n",
              "      <td>LP001003</td>\n",
              "      <td>Male</td>\n",
              "      <td>Yes</td>\n",
              "      <td>1</td>\n",
              "      <td>Graduate</td>\n",
              "      <td>No</td>\n",
              "      <td>4583</td>\n",
              "      <td>1508.0</td>\n",
              "      <td>128.0</td>\n",
              "      <td>360.0</td>\n",
              "      <td>1.0</td>\n",
              "      <td>Rural</td>\n",
              "      <td>N</td>\n",
              "    </tr>\n",
              "  </tbody>\n",
              "</table>\n",
              "</div>\n",
              "      <button class=\"colab-df-convert\" onclick=\"convertToInteractive('df-3d6db469-4666-4a06-8473-e5c8dd0b9d4c')\"\n",
              "              title=\"Convert this dataframe to an interactive table.\"\n",
              "              style=\"display:none;\">\n",
              "        \n",
              "  <svg xmlns=\"http://www.w3.org/2000/svg\" height=\"24px\"viewBox=\"0 0 24 24\"\n",
              "       width=\"24px\">\n",
              "    <path d=\"M0 0h24v24H0V0z\" fill=\"none\"/>\n",
              "    <path d=\"M18.56 5.44l.94 2.06.94-2.06 2.06-.94-2.06-.94-.94-2.06-.94 2.06-2.06.94zm-11 1L8.5 8.5l.94-2.06 2.06-.94-2.06-.94L8.5 2.5l-.94 2.06-2.06.94zm10 10l.94 2.06.94-2.06 2.06-.94-2.06-.94-.94-2.06-.94 2.06-2.06.94z\"/><path d=\"M17.41 7.96l-1.37-1.37c-.4-.4-.92-.59-1.43-.59-.52 0-1.04.2-1.43.59L10.3 9.45l-7.72 7.72c-.78.78-.78 2.05 0 2.83L4 21.41c.39.39.9.59 1.41.59.51 0 1.02-.2 1.41-.59l7.78-7.78 2.81-2.81c.8-.78.8-2.07 0-2.86zM5.41 20L4 18.59l7.72-7.72 1.47 1.35L5.41 20z\"/>\n",
              "  </svg>\n",
              "      </button>\n",
              "      \n",
              "  <style>\n",
              "    .colab-df-container {\n",
              "      display:flex;\n",
              "      flex-wrap:wrap;\n",
              "      gap: 12px;\n",
              "    }\n",
              "\n",
              "    .colab-df-convert {\n",
              "      background-color: #E8F0FE;\n",
              "      border: none;\n",
              "      border-radius: 50%;\n",
              "      cursor: pointer;\n",
              "      display: none;\n",
              "      fill: #1967D2;\n",
              "      height: 32px;\n",
              "      padding: 0 0 0 0;\n",
              "      width: 32px;\n",
              "    }\n",
              "\n",
              "    .colab-df-convert:hover {\n",
              "      background-color: #E2EBFA;\n",
              "      box-shadow: 0px 1px 2px rgba(60, 64, 67, 0.3), 0px 1px 3px 1px rgba(60, 64, 67, 0.15);\n",
              "      fill: #174EA6;\n",
              "    }\n",
              "\n",
              "    [theme=dark] .colab-df-convert {\n",
              "      background-color: #3B4455;\n",
              "      fill: #D2E3FC;\n",
              "    }\n",
              "\n",
              "    [theme=dark] .colab-df-convert:hover {\n",
              "      background-color: #434B5C;\n",
              "      box-shadow: 0px 1px 3px 1px rgba(0, 0, 0, 0.15);\n",
              "      filter: drop-shadow(0px 1px 2px rgba(0, 0, 0, 0.3));\n",
              "      fill: #FFFFFF;\n",
              "    }\n",
              "  </style>\n",
              "\n",
              "      <script>\n",
              "        const buttonEl =\n",
              "          document.querySelector('#df-3d6db469-4666-4a06-8473-e5c8dd0b9d4c button.colab-df-convert');\n",
              "        buttonEl.style.display =\n",
              "          google.colab.kernel.accessAllowed ? 'block' : 'none';\n",
              "\n",
              "        async function convertToInteractive(key) {\n",
              "          const element = document.querySelector('#df-3d6db469-4666-4a06-8473-e5c8dd0b9d4c');\n",
              "          const dataTable =\n",
              "            await google.colab.kernel.invokeFunction('convertToInteractive',\n",
              "                                                     [key], {});\n",
              "          if (!dataTable) return;\n",
              "\n",
              "          const docLinkHtml = 'Like what you see? Visit the ' +\n",
              "            '<a target=\"_blank\" href=https://colab.research.google.com/notebooks/data_table.ipynb>data table notebook</a>'\n",
              "            + ' to learn more about interactive tables.';\n",
              "          element.innerHTML = '';\n",
              "          dataTable['output_type'] = 'display_data';\n",
              "          await google.colab.output.renderOutput(dataTable, element);\n",
              "          const docLink = document.createElement('div');\n",
              "          docLink.innerHTML = docLinkHtml;\n",
              "          element.appendChild(docLink);\n",
              "        }\n",
              "      </script>\n",
              "    </div>\n",
              "  </div>\n",
              "  "
            ]
          },
          "metadata": {},
          "execution_count": 439
        }
      ]
    },
    {
      "cell_type": "code",
      "source": [
        "df.rename(\n",
        "    columns={'Gender':'Genero', \n",
        "             'Married':'Casado', \n",
        "             'Dependents':'Dependentes', \n",
        "             'Self_Employed':'Autonomo', \n",
        "             'ApplicantIncome':'Renda_Mensal_Cliente',\n",
        "             'CoapplicantIncome':'Renda_Mensal_Conjuge',\n",
        "             'LoanAmount':'Valor_Emprestimo',\n",
        "             'Loan_Amount_Term':'Prazo_Emprestimo',\n",
        "             'Credit_History':'Credito_Atende_Diretrizes', \n",
        "             'Loan_Status':'Status_Emprestimo'          \n",
        "             },\n",
        "    inplace=True      \n",
        ")\n",
        "df.head(2)"
      ],
      "metadata": {
        "colab": {
          "base_uri": "https://localhost:8080/",
          "height": 112
        },
        "id": "CPexiA_rPie7",
        "outputId": "5e544069-c763-4404-c3c4-fa6dee4c7b8b"
      },
      "execution_count": null,
      "outputs": [
        {
          "output_type": "execute_result",
          "data": {
            "text/plain": [
              "    Loan_ID Genero Casado Dependentes Education Autonomo  \\\n",
              "0  LP001002   Male     No           0  Graduate       No   \n",
              "1  LP001003   Male    Yes           1  Graduate       No   \n",
              "\n",
              "   Renda_Mensal_Cliente  Renda_Mensal_Conjuge  Valor_Emprestimo  \\\n",
              "0                  5849                   0.0               NaN   \n",
              "1                  4583                1508.0             128.0   \n",
              "\n",
              "   Prazo_Emprestimo  Credito_Atende_Diretrizes Property_Area Status_Emprestimo  \n",
              "0             360.0                        1.0         Urban                 Y  \n",
              "1             360.0                        1.0         Rural                 N  "
            ],
            "text/html": [
              "\n",
              "  <div id=\"df-591b509d-0cc6-432d-9d1b-9fd0b7409f18\">\n",
              "    <div class=\"colab-df-container\">\n",
              "      <div>\n",
              "<style scoped>\n",
              "    .dataframe tbody tr th:only-of-type {\n",
              "        vertical-align: middle;\n",
              "    }\n",
              "\n",
              "    .dataframe tbody tr th {\n",
              "        vertical-align: top;\n",
              "    }\n",
              "\n",
              "    .dataframe thead th {\n",
              "        text-align: right;\n",
              "    }\n",
              "</style>\n",
              "<table border=\"1\" class=\"dataframe\">\n",
              "  <thead>\n",
              "    <tr style=\"text-align: right;\">\n",
              "      <th></th>\n",
              "      <th>Loan_ID</th>\n",
              "      <th>Genero</th>\n",
              "      <th>Casado</th>\n",
              "      <th>Dependentes</th>\n",
              "      <th>Education</th>\n",
              "      <th>Autonomo</th>\n",
              "      <th>Renda_Mensal_Cliente</th>\n",
              "      <th>Renda_Mensal_Conjuge</th>\n",
              "      <th>Valor_Emprestimo</th>\n",
              "      <th>Prazo_Emprestimo</th>\n",
              "      <th>Credito_Atende_Diretrizes</th>\n",
              "      <th>Property_Area</th>\n",
              "      <th>Status_Emprestimo</th>\n",
              "    </tr>\n",
              "  </thead>\n",
              "  <tbody>\n",
              "    <tr>\n",
              "      <th>0</th>\n",
              "      <td>LP001002</td>\n",
              "      <td>Male</td>\n",
              "      <td>No</td>\n",
              "      <td>0</td>\n",
              "      <td>Graduate</td>\n",
              "      <td>No</td>\n",
              "      <td>5849</td>\n",
              "      <td>0.0</td>\n",
              "      <td>NaN</td>\n",
              "      <td>360.0</td>\n",
              "      <td>1.0</td>\n",
              "      <td>Urban</td>\n",
              "      <td>Y</td>\n",
              "    </tr>\n",
              "    <tr>\n",
              "      <th>1</th>\n",
              "      <td>LP001003</td>\n",
              "      <td>Male</td>\n",
              "      <td>Yes</td>\n",
              "      <td>1</td>\n",
              "      <td>Graduate</td>\n",
              "      <td>No</td>\n",
              "      <td>4583</td>\n",
              "      <td>1508.0</td>\n",
              "      <td>128.0</td>\n",
              "      <td>360.0</td>\n",
              "      <td>1.0</td>\n",
              "      <td>Rural</td>\n",
              "      <td>N</td>\n",
              "    </tr>\n",
              "  </tbody>\n",
              "</table>\n",
              "</div>\n",
              "      <button class=\"colab-df-convert\" onclick=\"convertToInteractive('df-591b509d-0cc6-432d-9d1b-9fd0b7409f18')\"\n",
              "              title=\"Convert this dataframe to an interactive table.\"\n",
              "              style=\"display:none;\">\n",
              "        \n",
              "  <svg xmlns=\"http://www.w3.org/2000/svg\" height=\"24px\"viewBox=\"0 0 24 24\"\n",
              "       width=\"24px\">\n",
              "    <path d=\"M0 0h24v24H0V0z\" fill=\"none\"/>\n",
              "    <path d=\"M18.56 5.44l.94 2.06.94-2.06 2.06-.94-2.06-.94-.94-2.06-.94 2.06-2.06.94zm-11 1L8.5 8.5l.94-2.06 2.06-.94-2.06-.94L8.5 2.5l-.94 2.06-2.06.94zm10 10l.94 2.06.94-2.06 2.06-.94-2.06-.94-.94-2.06-.94 2.06-2.06.94z\"/><path d=\"M17.41 7.96l-1.37-1.37c-.4-.4-.92-.59-1.43-.59-.52 0-1.04.2-1.43.59L10.3 9.45l-7.72 7.72c-.78.78-.78 2.05 0 2.83L4 21.41c.39.39.9.59 1.41.59.51 0 1.02-.2 1.41-.59l7.78-7.78 2.81-2.81c.8-.78.8-2.07 0-2.86zM5.41 20L4 18.59l7.72-7.72 1.47 1.35L5.41 20z\"/>\n",
              "  </svg>\n",
              "      </button>\n",
              "      \n",
              "  <style>\n",
              "    .colab-df-container {\n",
              "      display:flex;\n",
              "      flex-wrap:wrap;\n",
              "      gap: 12px;\n",
              "    }\n",
              "\n",
              "    .colab-df-convert {\n",
              "      background-color: #E8F0FE;\n",
              "      border: none;\n",
              "      border-radius: 50%;\n",
              "      cursor: pointer;\n",
              "      display: none;\n",
              "      fill: #1967D2;\n",
              "      height: 32px;\n",
              "      padding: 0 0 0 0;\n",
              "      width: 32px;\n",
              "    }\n",
              "\n",
              "    .colab-df-convert:hover {\n",
              "      background-color: #E2EBFA;\n",
              "      box-shadow: 0px 1px 2px rgba(60, 64, 67, 0.3), 0px 1px 3px 1px rgba(60, 64, 67, 0.15);\n",
              "      fill: #174EA6;\n",
              "    }\n",
              "\n",
              "    [theme=dark] .colab-df-convert {\n",
              "      background-color: #3B4455;\n",
              "      fill: #D2E3FC;\n",
              "    }\n",
              "\n",
              "    [theme=dark] .colab-df-convert:hover {\n",
              "      background-color: #434B5C;\n",
              "      box-shadow: 0px 1px 3px 1px rgba(0, 0, 0, 0.15);\n",
              "      filter: drop-shadow(0px 1px 2px rgba(0, 0, 0, 0.3));\n",
              "      fill: #FFFFFF;\n",
              "    }\n",
              "  </style>\n",
              "\n",
              "      <script>\n",
              "        const buttonEl =\n",
              "          document.querySelector('#df-591b509d-0cc6-432d-9d1b-9fd0b7409f18 button.colab-df-convert');\n",
              "        buttonEl.style.display =\n",
              "          google.colab.kernel.accessAllowed ? 'block' : 'none';\n",
              "\n",
              "        async function convertToInteractive(key) {\n",
              "          const element = document.querySelector('#df-591b509d-0cc6-432d-9d1b-9fd0b7409f18');\n",
              "          const dataTable =\n",
              "            await google.colab.kernel.invokeFunction('convertToInteractive',\n",
              "                                                     [key], {});\n",
              "          if (!dataTable) return;\n",
              "\n",
              "          const docLinkHtml = 'Like what you see? Visit the ' +\n",
              "            '<a target=\"_blank\" href=https://colab.research.google.com/notebooks/data_table.ipynb>data table notebook</a>'\n",
              "            + ' to learn more about interactive tables.';\n",
              "          element.innerHTML = '';\n",
              "          dataTable['output_type'] = 'display_data';\n",
              "          await google.colab.output.renderOutput(dataTable, element);\n",
              "          const docLink = document.createElement('div');\n",
              "          docLink.innerHTML = docLinkHtml;\n",
              "          element.appendChild(docLink);\n",
              "        }\n",
              "      </script>\n",
              "    </div>\n",
              "  </div>\n",
              "  "
            ]
          },
          "metadata": {},
          "execution_count": 440
        }
      ]
    },
    {
      "cell_type": "code",
      "source": [
        "df.describe()"
      ],
      "metadata": {
        "colab": {
          "base_uri": "https://localhost:8080/",
          "height": 300
        },
        "id": "J2IGtyF7TJWB",
        "outputId": "5fa67a79-8233-4487-d307-296ae2faec25"
      },
      "execution_count": null,
      "outputs": [
        {
          "output_type": "execute_result",
          "data": {
            "text/plain": [
              "       Renda_Mensal_Cliente  Renda_Mensal_Conjuge  Valor_Emprestimo  \\\n",
              "count            614.000000            614.000000        592.000000   \n",
              "mean            5403.459283           1621.245798        146.412162   \n",
              "std             6109.041673           2926.248369         85.587325   \n",
              "min              150.000000              0.000000          9.000000   \n",
              "25%             2877.500000              0.000000        100.000000   \n",
              "50%             3812.500000           1188.500000        128.000000   \n",
              "75%             5795.000000           2297.250000        168.000000   \n",
              "max            81000.000000          41667.000000        700.000000   \n",
              "\n",
              "       Prazo_Emprestimo  Credito_Atende_Diretrizes  \n",
              "count         600.00000                 564.000000  \n",
              "mean          342.00000                   0.842199  \n",
              "std            65.12041                   0.364878  \n",
              "min            12.00000                   0.000000  \n",
              "25%           360.00000                   1.000000  \n",
              "50%           360.00000                   1.000000  \n",
              "75%           360.00000                   1.000000  \n",
              "max           480.00000                   1.000000  "
            ],
            "text/html": [
              "\n",
              "  <div id=\"df-bbf98c8c-d0ab-4858-a19a-dddcd0f3bb54\">\n",
              "    <div class=\"colab-df-container\">\n",
              "      <div>\n",
              "<style scoped>\n",
              "    .dataframe tbody tr th:only-of-type {\n",
              "        vertical-align: middle;\n",
              "    }\n",
              "\n",
              "    .dataframe tbody tr th {\n",
              "        vertical-align: top;\n",
              "    }\n",
              "\n",
              "    .dataframe thead th {\n",
              "        text-align: right;\n",
              "    }\n",
              "</style>\n",
              "<table border=\"1\" class=\"dataframe\">\n",
              "  <thead>\n",
              "    <tr style=\"text-align: right;\">\n",
              "      <th></th>\n",
              "      <th>Renda_Mensal_Cliente</th>\n",
              "      <th>Renda_Mensal_Conjuge</th>\n",
              "      <th>Valor_Emprestimo</th>\n",
              "      <th>Prazo_Emprestimo</th>\n",
              "      <th>Credito_Atende_Diretrizes</th>\n",
              "    </tr>\n",
              "  </thead>\n",
              "  <tbody>\n",
              "    <tr>\n",
              "      <th>count</th>\n",
              "      <td>614.000000</td>\n",
              "      <td>614.000000</td>\n",
              "      <td>592.000000</td>\n",
              "      <td>600.00000</td>\n",
              "      <td>564.000000</td>\n",
              "    </tr>\n",
              "    <tr>\n",
              "      <th>mean</th>\n",
              "      <td>5403.459283</td>\n",
              "      <td>1621.245798</td>\n",
              "      <td>146.412162</td>\n",
              "      <td>342.00000</td>\n",
              "      <td>0.842199</td>\n",
              "    </tr>\n",
              "    <tr>\n",
              "      <th>std</th>\n",
              "      <td>6109.041673</td>\n",
              "      <td>2926.248369</td>\n",
              "      <td>85.587325</td>\n",
              "      <td>65.12041</td>\n",
              "      <td>0.364878</td>\n",
              "    </tr>\n",
              "    <tr>\n",
              "      <th>min</th>\n",
              "      <td>150.000000</td>\n",
              "      <td>0.000000</td>\n",
              "      <td>9.000000</td>\n",
              "      <td>12.00000</td>\n",
              "      <td>0.000000</td>\n",
              "    </tr>\n",
              "    <tr>\n",
              "      <th>25%</th>\n",
              "      <td>2877.500000</td>\n",
              "      <td>0.000000</td>\n",
              "      <td>100.000000</td>\n",
              "      <td>360.00000</td>\n",
              "      <td>1.000000</td>\n",
              "    </tr>\n",
              "    <tr>\n",
              "      <th>50%</th>\n",
              "      <td>3812.500000</td>\n",
              "      <td>1188.500000</td>\n",
              "      <td>128.000000</td>\n",
              "      <td>360.00000</td>\n",
              "      <td>1.000000</td>\n",
              "    </tr>\n",
              "    <tr>\n",
              "      <th>75%</th>\n",
              "      <td>5795.000000</td>\n",
              "      <td>2297.250000</td>\n",
              "      <td>168.000000</td>\n",
              "      <td>360.00000</td>\n",
              "      <td>1.000000</td>\n",
              "    </tr>\n",
              "    <tr>\n",
              "      <th>max</th>\n",
              "      <td>81000.000000</td>\n",
              "      <td>41667.000000</td>\n",
              "      <td>700.000000</td>\n",
              "      <td>480.00000</td>\n",
              "      <td>1.000000</td>\n",
              "    </tr>\n",
              "  </tbody>\n",
              "</table>\n",
              "</div>\n",
              "      <button class=\"colab-df-convert\" onclick=\"convertToInteractive('df-bbf98c8c-d0ab-4858-a19a-dddcd0f3bb54')\"\n",
              "              title=\"Convert this dataframe to an interactive table.\"\n",
              "              style=\"display:none;\">\n",
              "        \n",
              "  <svg xmlns=\"http://www.w3.org/2000/svg\" height=\"24px\"viewBox=\"0 0 24 24\"\n",
              "       width=\"24px\">\n",
              "    <path d=\"M0 0h24v24H0V0z\" fill=\"none\"/>\n",
              "    <path d=\"M18.56 5.44l.94 2.06.94-2.06 2.06-.94-2.06-.94-.94-2.06-.94 2.06-2.06.94zm-11 1L8.5 8.5l.94-2.06 2.06-.94-2.06-.94L8.5 2.5l-.94 2.06-2.06.94zm10 10l.94 2.06.94-2.06 2.06-.94-2.06-.94-.94-2.06-.94 2.06-2.06.94z\"/><path d=\"M17.41 7.96l-1.37-1.37c-.4-.4-.92-.59-1.43-.59-.52 0-1.04.2-1.43.59L10.3 9.45l-7.72 7.72c-.78.78-.78 2.05 0 2.83L4 21.41c.39.39.9.59 1.41.59.51 0 1.02-.2 1.41-.59l7.78-7.78 2.81-2.81c.8-.78.8-2.07 0-2.86zM5.41 20L4 18.59l7.72-7.72 1.47 1.35L5.41 20z\"/>\n",
              "  </svg>\n",
              "      </button>\n",
              "      \n",
              "  <style>\n",
              "    .colab-df-container {\n",
              "      display:flex;\n",
              "      flex-wrap:wrap;\n",
              "      gap: 12px;\n",
              "    }\n",
              "\n",
              "    .colab-df-convert {\n",
              "      background-color: #E8F0FE;\n",
              "      border: none;\n",
              "      border-radius: 50%;\n",
              "      cursor: pointer;\n",
              "      display: none;\n",
              "      fill: #1967D2;\n",
              "      height: 32px;\n",
              "      padding: 0 0 0 0;\n",
              "      width: 32px;\n",
              "    }\n",
              "\n",
              "    .colab-df-convert:hover {\n",
              "      background-color: #E2EBFA;\n",
              "      box-shadow: 0px 1px 2px rgba(60, 64, 67, 0.3), 0px 1px 3px 1px rgba(60, 64, 67, 0.15);\n",
              "      fill: #174EA6;\n",
              "    }\n",
              "\n",
              "    [theme=dark] .colab-df-convert {\n",
              "      background-color: #3B4455;\n",
              "      fill: #D2E3FC;\n",
              "    }\n",
              "\n",
              "    [theme=dark] .colab-df-convert:hover {\n",
              "      background-color: #434B5C;\n",
              "      box-shadow: 0px 1px 3px 1px rgba(0, 0, 0, 0.15);\n",
              "      filter: drop-shadow(0px 1px 2px rgba(0, 0, 0, 0.3));\n",
              "      fill: #FFFFFF;\n",
              "    }\n",
              "  </style>\n",
              "\n",
              "      <script>\n",
              "        const buttonEl =\n",
              "          document.querySelector('#df-bbf98c8c-d0ab-4858-a19a-dddcd0f3bb54 button.colab-df-convert');\n",
              "        buttonEl.style.display =\n",
              "          google.colab.kernel.accessAllowed ? 'block' : 'none';\n",
              "\n",
              "        async function convertToInteractive(key) {\n",
              "          const element = document.querySelector('#df-bbf98c8c-d0ab-4858-a19a-dddcd0f3bb54');\n",
              "          const dataTable =\n",
              "            await google.colab.kernel.invokeFunction('convertToInteractive',\n",
              "                                                     [key], {});\n",
              "          if (!dataTable) return;\n",
              "\n",
              "          const docLinkHtml = 'Like what you see? Visit the ' +\n",
              "            '<a target=\"_blank\" href=https://colab.research.google.com/notebooks/data_table.ipynb>data table notebook</a>'\n",
              "            + ' to learn more about interactive tables.';\n",
              "          element.innerHTML = '';\n",
              "          dataTable['output_type'] = 'display_data';\n",
              "          await google.colab.output.renderOutput(dataTable, element);\n",
              "          const docLink = document.createElement('div');\n",
              "          docLink.innerHTML = docLinkHtml;\n",
              "          element.appendChild(docLink);\n",
              "        }\n",
              "      </script>\n",
              "    </div>\n",
              "  </div>\n",
              "  "
            ]
          },
          "metadata": {},
          "execution_count": 441
        }
      ]
    },
    {
      "cell_type": "code",
      "source": [
        "df.info()"
      ],
      "metadata": {
        "colab": {
          "base_uri": "https://localhost:8080/"
        },
        "id": "mpeGnZ-VVunD",
        "outputId": "f051987a-8d71-4bab-9f2a-81586af3aa49"
      },
      "execution_count": null,
      "outputs": [
        {
          "output_type": "stream",
          "name": "stdout",
          "text": [
            "<class 'pandas.core.frame.DataFrame'>\n",
            "RangeIndex: 614 entries, 0 to 613\n",
            "Data columns (total 13 columns):\n",
            " #   Column                     Non-Null Count  Dtype  \n",
            "---  ------                     --------------  -----  \n",
            " 0   Loan_ID                    614 non-null    object \n",
            " 1   Genero                     601 non-null    object \n",
            " 2   Casado                     611 non-null    object \n",
            " 3   Dependentes                599 non-null    object \n",
            " 4   Education                  614 non-null    object \n",
            " 5   Autonomo                   582 non-null    object \n",
            " 6   Renda_Mensal_Cliente       614 non-null    int64  \n",
            " 7   Renda_Mensal_Conjuge       614 non-null    float64\n",
            " 8   Valor_Emprestimo           592 non-null    float64\n",
            " 9   Prazo_Emprestimo           600 non-null    float64\n",
            " 10  Credito_Atende_Diretrizes  564 non-null    float64\n",
            " 11  Property_Area              614 non-null    object \n",
            " 12  Status_Emprestimo          614 non-null    object \n",
            "dtypes: float64(4), int64(1), object(8)\n",
            "memory usage: 62.5+ KB\n"
          ]
        }
      ]
    },
    {
      "cell_type": "code",
      "source": [
        "df.nunique()"
      ],
      "metadata": {
        "colab": {
          "base_uri": "https://localhost:8080/"
        },
        "id": "li7fObOAkrx_",
        "outputId": "bc3cfe77-0525-4bf3-b2d8-0fe038b66574"
      },
      "execution_count": null,
      "outputs": [
        {
          "output_type": "execute_result",
          "data": {
            "text/plain": [
              "Loan_ID                      614\n",
              "Genero                         2\n",
              "Casado                         2\n",
              "Dependentes                    4\n",
              "Education                      2\n",
              "Autonomo                       2\n",
              "Renda_Mensal_Cliente         505\n",
              "Renda_Mensal_Conjuge         287\n",
              "Valor_Emprestimo             203\n",
              "Prazo_Emprestimo              10\n",
              "Credito_Atende_Diretrizes      2\n",
              "Property_Area                  3\n",
              "Status_Emprestimo              2\n",
              "dtype: int64"
            ]
          },
          "metadata": {},
          "execution_count": 443
        }
      ]
    },
    {
      "cell_type": "code",
      "source": [
        "#Checando a porcentagem de dados faltantes no dataset\n",
        "percent_missing = df.isnull().sum() * 100 / len(df) \n",
        "missing_value_df = pd.DataFrame({'column_name': df.columns, \n",
        "                                 'percent_missing': percent_missing})\n",
        "missing_value_df.sort_values(['percent_missing'], ascending=False)"
      ],
      "metadata": {
        "colab": {
          "base_uri": "https://localhost:8080/",
          "height": 457
        },
        "id": "TJHCjpTS6x7e",
        "outputId": "e29a2fe4-4f3b-419e-a932-492d2c714a79"
      },
      "execution_count": null,
      "outputs": [
        {
          "output_type": "execute_result",
          "data": {
            "text/plain": [
              "                                         column_name  percent_missing\n",
              "Credito_Atende_Diretrizes  Credito_Atende_Diretrizes         8.143322\n",
              "Autonomo                                    Autonomo         5.211726\n",
              "Valor_Emprestimo                    Valor_Emprestimo         3.583062\n",
              "Dependentes                              Dependentes         2.442997\n",
              "Prazo_Emprestimo                    Prazo_Emprestimo         2.280130\n",
              "Genero                                        Genero         2.117264\n",
              "Casado                                        Casado         0.488599\n",
              "Loan_ID                                      Loan_ID         0.000000\n",
              "Education                                  Education         0.000000\n",
              "Renda_Mensal_Cliente            Renda_Mensal_Cliente         0.000000\n",
              "Renda_Mensal_Conjuge            Renda_Mensal_Conjuge         0.000000\n",
              "Property_Area                          Property_Area         0.000000\n",
              "Status_Emprestimo                  Status_Emprestimo         0.000000"
            ],
            "text/html": [
              "\n",
              "  <div id=\"df-67384e48-e39b-4302-8cdb-d384ce40ff5d\">\n",
              "    <div class=\"colab-df-container\">\n",
              "      <div>\n",
              "<style scoped>\n",
              "    .dataframe tbody tr th:only-of-type {\n",
              "        vertical-align: middle;\n",
              "    }\n",
              "\n",
              "    .dataframe tbody tr th {\n",
              "        vertical-align: top;\n",
              "    }\n",
              "\n",
              "    .dataframe thead th {\n",
              "        text-align: right;\n",
              "    }\n",
              "</style>\n",
              "<table border=\"1\" class=\"dataframe\">\n",
              "  <thead>\n",
              "    <tr style=\"text-align: right;\">\n",
              "      <th></th>\n",
              "      <th>column_name</th>\n",
              "      <th>percent_missing</th>\n",
              "    </tr>\n",
              "  </thead>\n",
              "  <tbody>\n",
              "    <tr>\n",
              "      <th>Credito_Atende_Diretrizes</th>\n",
              "      <td>Credito_Atende_Diretrizes</td>\n",
              "      <td>8.143322</td>\n",
              "    </tr>\n",
              "    <tr>\n",
              "      <th>Autonomo</th>\n",
              "      <td>Autonomo</td>\n",
              "      <td>5.211726</td>\n",
              "    </tr>\n",
              "    <tr>\n",
              "      <th>Valor_Emprestimo</th>\n",
              "      <td>Valor_Emprestimo</td>\n",
              "      <td>3.583062</td>\n",
              "    </tr>\n",
              "    <tr>\n",
              "      <th>Dependentes</th>\n",
              "      <td>Dependentes</td>\n",
              "      <td>2.442997</td>\n",
              "    </tr>\n",
              "    <tr>\n",
              "      <th>Prazo_Emprestimo</th>\n",
              "      <td>Prazo_Emprestimo</td>\n",
              "      <td>2.280130</td>\n",
              "    </tr>\n",
              "    <tr>\n",
              "      <th>Genero</th>\n",
              "      <td>Genero</td>\n",
              "      <td>2.117264</td>\n",
              "    </tr>\n",
              "    <tr>\n",
              "      <th>Casado</th>\n",
              "      <td>Casado</td>\n",
              "      <td>0.488599</td>\n",
              "    </tr>\n",
              "    <tr>\n",
              "      <th>Loan_ID</th>\n",
              "      <td>Loan_ID</td>\n",
              "      <td>0.000000</td>\n",
              "    </tr>\n",
              "    <tr>\n",
              "      <th>Education</th>\n",
              "      <td>Education</td>\n",
              "      <td>0.000000</td>\n",
              "    </tr>\n",
              "    <tr>\n",
              "      <th>Renda_Mensal_Cliente</th>\n",
              "      <td>Renda_Mensal_Cliente</td>\n",
              "      <td>0.000000</td>\n",
              "    </tr>\n",
              "    <tr>\n",
              "      <th>Renda_Mensal_Conjuge</th>\n",
              "      <td>Renda_Mensal_Conjuge</td>\n",
              "      <td>0.000000</td>\n",
              "    </tr>\n",
              "    <tr>\n",
              "      <th>Property_Area</th>\n",
              "      <td>Property_Area</td>\n",
              "      <td>0.000000</td>\n",
              "    </tr>\n",
              "    <tr>\n",
              "      <th>Status_Emprestimo</th>\n",
              "      <td>Status_Emprestimo</td>\n",
              "      <td>0.000000</td>\n",
              "    </tr>\n",
              "  </tbody>\n",
              "</table>\n",
              "</div>\n",
              "      <button class=\"colab-df-convert\" onclick=\"convertToInteractive('df-67384e48-e39b-4302-8cdb-d384ce40ff5d')\"\n",
              "              title=\"Convert this dataframe to an interactive table.\"\n",
              "              style=\"display:none;\">\n",
              "        \n",
              "  <svg xmlns=\"http://www.w3.org/2000/svg\" height=\"24px\"viewBox=\"0 0 24 24\"\n",
              "       width=\"24px\">\n",
              "    <path d=\"M0 0h24v24H0V0z\" fill=\"none\"/>\n",
              "    <path d=\"M18.56 5.44l.94 2.06.94-2.06 2.06-.94-2.06-.94-.94-2.06-.94 2.06-2.06.94zm-11 1L8.5 8.5l.94-2.06 2.06-.94-2.06-.94L8.5 2.5l-.94 2.06-2.06.94zm10 10l.94 2.06.94-2.06 2.06-.94-2.06-.94-.94-2.06-.94 2.06-2.06.94z\"/><path d=\"M17.41 7.96l-1.37-1.37c-.4-.4-.92-.59-1.43-.59-.52 0-1.04.2-1.43.59L10.3 9.45l-7.72 7.72c-.78.78-.78 2.05 0 2.83L4 21.41c.39.39.9.59 1.41.59.51 0 1.02-.2 1.41-.59l7.78-7.78 2.81-2.81c.8-.78.8-2.07 0-2.86zM5.41 20L4 18.59l7.72-7.72 1.47 1.35L5.41 20z\"/>\n",
              "  </svg>\n",
              "      </button>\n",
              "      \n",
              "  <style>\n",
              "    .colab-df-container {\n",
              "      display:flex;\n",
              "      flex-wrap:wrap;\n",
              "      gap: 12px;\n",
              "    }\n",
              "\n",
              "    .colab-df-convert {\n",
              "      background-color: #E8F0FE;\n",
              "      border: none;\n",
              "      border-radius: 50%;\n",
              "      cursor: pointer;\n",
              "      display: none;\n",
              "      fill: #1967D2;\n",
              "      height: 32px;\n",
              "      padding: 0 0 0 0;\n",
              "      width: 32px;\n",
              "    }\n",
              "\n",
              "    .colab-df-convert:hover {\n",
              "      background-color: #E2EBFA;\n",
              "      box-shadow: 0px 1px 2px rgba(60, 64, 67, 0.3), 0px 1px 3px 1px rgba(60, 64, 67, 0.15);\n",
              "      fill: #174EA6;\n",
              "    }\n",
              "\n",
              "    [theme=dark] .colab-df-convert {\n",
              "      background-color: #3B4455;\n",
              "      fill: #D2E3FC;\n",
              "    }\n",
              "\n",
              "    [theme=dark] .colab-df-convert:hover {\n",
              "      background-color: #434B5C;\n",
              "      box-shadow: 0px 1px 3px 1px rgba(0, 0, 0, 0.15);\n",
              "      filter: drop-shadow(0px 1px 2px rgba(0, 0, 0, 0.3));\n",
              "      fill: #FFFFFF;\n",
              "    }\n",
              "  </style>\n",
              "\n",
              "      <script>\n",
              "        const buttonEl =\n",
              "          document.querySelector('#df-67384e48-e39b-4302-8cdb-d384ce40ff5d button.colab-df-convert');\n",
              "        buttonEl.style.display =\n",
              "          google.colab.kernel.accessAllowed ? 'block' : 'none';\n",
              "\n",
              "        async function convertToInteractive(key) {\n",
              "          const element = document.querySelector('#df-67384e48-e39b-4302-8cdb-d384ce40ff5d');\n",
              "          const dataTable =\n",
              "            await google.colab.kernel.invokeFunction('convertToInteractive',\n",
              "                                                     [key], {});\n",
              "          if (!dataTable) return;\n",
              "\n",
              "          const docLinkHtml = 'Like what you see? Visit the ' +\n",
              "            '<a target=\"_blank\" href=https://colab.research.google.com/notebooks/data_table.ipynb>data table notebook</a>'\n",
              "            + ' to learn more about interactive tables.';\n",
              "          element.innerHTML = '';\n",
              "          dataTable['output_type'] = 'display_data';\n",
              "          await google.colab.output.renderOutput(dataTable, element);\n",
              "          const docLink = document.createElement('div');\n",
              "          docLink.innerHTML = docLinkHtml;\n",
              "          element.appendChild(docLink);\n",
              "        }\n",
              "      </script>\n",
              "    </div>\n",
              "  </div>\n",
              "  "
            ]
          },
          "metadata": {},
          "execution_count": 444
        }
      ]
    },
    {
      "cell_type": "code",
      "source": [
        "# Substituindo os dados faltantes pelos valores que estão a frente da posição vazia\n",
        "df = df.fillna(method='ffill')"
      ],
      "metadata": {
        "id": "o-CFNOB06_v-"
      },
      "execution_count": null,
      "outputs": []
    },
    {
      "cell_type": "code",
      "source": [
        "# Checando se ainda há algum dado faltante\n",
        "percent_missing = df.isnull().sum() * 100 / len(df) \n",
        "missing_value_df = pd.DataFrame({'column_name': df.columns, \n",
        "                                 'percent_missing': percent_missing})\n",
        "missing_value_df.sort_values(['percent_missing'], ascending=False)"
      ],
      "metadata": {
        "colab": {
          "base_uri": "https://localhost:8080/",
          "height": 457
        },
        "id": "2k8hpJSl7y0F",
        "outputId": "8b07670d-f657-437b-8a1a-6e13c2ec65d1"
      },
      "execution_count": null,
      "outputs": [
        {
          "output_type": "execute_result",
          "data": {
            "text/plain": [
              "                                         column_name  percent_missing\n",
              "Valor_Emprestimo                    Valor_Emprestimo         0.162866\n",
              "Loan_ID                                      Loan_ID         0.000000\n",
              "Genero                                        Genero         0.000000\n",
              "Casado                                        Casado         0.000000\n",
              "Dependentes                              Dependentes         0.000000\n",
              "Education                                  Education         0.000000\n",
              "Autonomo                                    Autonomo         0.000000\n",
              "Renda_Mensal_Cliente            Renda_Mensal_Cliente         0.000000\n",
              "Renda_Mensal_Conjuge            Renda_Mensal_Conjuge         0.000000\n",
              "Prazo_Emprestimo                    Prazo_Emprestimo         0.000000\n",
              "Credito_Atende_Diretrizes  Credito_Atende_Diretrizes         0.000000\n",
              "Property_Area                          Property_Area         0.000000\n",
              "Status_Emprestimo                  Status_Emprestimo         0.000000"
            ],
            "text/html": [
              "\n",
              "  <div id=\"df-683cec3e-0181-43da-8677-39b8723024f6\">\n",
              "    <div class=\"colab-df-container\">\n",
              "      <div>\n",
              "<style scoped>\n",
              "    .dataframe tbody tr th:only-of-type {\n",
              "        vertical-align: middle;\n",
              "    }\n",
              "\n",
              "    .dataframe tbody tr th {\n",
              "        vertical-align: top;\n",
              "    }\n",
              "\n",
              "    .dataframe thead th {\n",
              "        text-align: right;\n",
              "    }\n",
              "</style>\n",
              "<table border=\"1\" class=\"dataframe\">\n",
              "  <thead>\n",
              "    <tr style=\"text-align: right;\">\n",
              "      <th></th>\n",
              "      <th>column_name</th>\n",
              "      <th>percent_missing</th>\n",
              "    </tr>\n",
              "  </thead>\n",
              "  <tbody>\n",
              "    <tr>\n",
              "      <th>Valor_Emprestimo</th>\n",
              "      <td>Valor_Emprestimo</td>\n",
              "      <td>0.162866</td>\n",
              "    </tr>\n",
              "    <tr>\n",
              "      <th>Loan_ID</th>\n",
              "      <td>Loan_ID</td>\n",
              "      <td>0.000000</td>\n",
              "    </tr>\n",
              "    <tr>\n",
              "      <th>Genero</th>\n",
              "      <td>Genero</td>\n",
              "      <td>0.000000</td>\n",
              "    </tr>\n",
              "    <tr>\n",
              "      <th>Casado</th>\n",
              "      <td>Casado</td>\n",
              "      <td>0.000000</td>\n",
              "    </tr>\n",
              "    <tr>\n",
              "      <th>Dependentes</th>\n",
              "      <td>Dependentes</td>\n",
              "      <td>0.000000</td>\n",
              "    </tr>\n",
              "    <tr>\n",
              "      <th>Education</th>\n",
              "      <td>Education</td>\n",
              "      <td>0.000000</td>\n",
              "    </tr>\n",
              "    <tr>\n",
              "      <th>Autonomo</th>\n",
              "      <td>Autonomo</td>\n",
              "      <td>0.000000</td>\n",
              "    </tr>\n",
              "    <tr>\n",
              "      <th>Renda_Mensal_Cliente</th>\n",
              "      <td>Renda_Mensal_Cliente</td>\n",
              "      <td>0.000000</td>\n",
              "    </tr>\n",
              "    <tr>\n",
              "      <th>Renda_Mensal_Conjuge</th>\n",
              "      <td>Renda_Mensal_Conjuge</td>\n",
              "      <td>0.000000</td>\n",
              "    </tr>\n",
              "    <tr>\n",
              "      <th>Prazo_Emprestimo</th>\n",
              "      <td>Prazo_Emprestimo</td>\n",
              "      <td>0.000000</td>\n",
              "    </tr>\n",
              "    <tr>\n",
              "      <th>Credito_Atende_Diretrizes</th>\n",
              "      <td>Credito_Atende_Diretrizes</td>\n",
              "      <td>0.000000</td>\n",
              "    </tr>\n",
              "    <tr>\n",
              "      <th>Property_Area</th>\n",
              "      <td>Property_Area</td>\n",
              "      <td>0.000000</td>\n",
              "    </tr>\n",
              "    <tr>\n",
              "      <th>Status_Emprestimo</th>\n",
              "      <td>Status_Emprestimo</td>\n",
              "      <td>0.000000</td>\n",
              "    </tr>\n",
              "  </tbody>\n",
              "</table>\n",
              "</div>\n",
              "      <button class=\"colab-df-convert\" onclick=\"convertToInteractive('df-683cec3e-0181-43da-8677-39b8723024f6')\"\n",
              "              title=\"Convert this dataframe to an interactive table.\"\n",
              "              style=\"display:none;\">\n",
              "        \n",
              "  <svg xmlns=\"http://www.w3.org/2000/svg\" height=\"24px\"viewBox=\"0 0 24 24\"\n",
              "       width=\"24px\">\n",
              "    <path d=\"M0 0h24v24H0V0z\" fill=\"none\"/>\n",
              "    <path d=\"M18.56 5.44l.94 2.06.94-2.06 2.06-.94-2.06-.94-.94-2.06-.94 2.06-2.06.94zm-11 1L8.5 8.5l.94-2.06 2.06-.94-2.06-.94L8.5 2.5l-.94 2.06-2.06.94zm10 10l.94 2.06.94-2.06 2.06-.94-2.06-.94-.94-2.06-.94 2.06-2.06.94z\"/><path d=\"M17.41 7.96l-1.37-1.37c-.4-.4-.92-.59-1.43-.59-.52 0-1.04.2-1.43.59L10.3 9.45l-7.72 7.72c-.78.78-.78 2.05 0 2.83L4 21.41c.39.39.9.59 1.41.59.51 0 1.02-.2 1.41-.59l7.78-7.78 2.81-2.81c.8-.78.8-2.07 0-2.86zM5.41 20L4 18.59l7.72-7.72 1.47 1.35L5.41 20z\"/>\n",
              "  </svg>\n",
              "      </button>\n",
              "      \n",
              "  <style>\n",
              "    .colab-df-container {\n",
              "      display:flex;\n",
              "      flex-wrap:wrap;\n",
              "      gap: 12px;\n",
              "    }\n",
              "\n",
              "    .colab-df-convert {\n",
              "      background-color: #E8F0FE;\n",
              "      border: none;\n",
              "      border-radius: 50%;\n",
              "      cursor: pointer;\n",
              "      display: none;\n",
              "      fill: #1967D2;\n",
              "      height: 32px;\n",
              "      padding: 0 0 0 0;\n",
              "      width: 32px;\n",
              "    }\n",
              "\n",
              "    .colab-df-convert:hover {\n",
              "      background-color: #E2EBFA;\n",
              "      box-shadow: 0px 1px 2px rgba(60, 64, 67, 0.3), 0px 1px 3px 1px rgba(60, 64, 67, 0.15);\n",
              "      fill: #174EA6;\n",
              "    }\n",
              "\n",
              "    [theme=dark] .colab-df-convert {\n",
              "      background-color: #3B4455;\n",
              "      fill: #D2E3FC;\n",
              "    }\n",
              "\n",
              "    [theme=dark] .colab-df-convert:hover {\n",
              "      background-color: #434B5C;\n",
              "      box-shadow: 0px 1px 3px 1px rgba(0, 0, 0, 0.15);\n",
              "      filter: drop-shadow(0px 1px 2px rgba(0, 0, 0, 0.3));\n",
              "      fill: #FFFFFF;\n",
              "    }\n",
              "  </style>\n",
              "\n",
              "      <script>\n",
              "        const buttonEl =\n",
              "          document.querySelector('#df-683cec3e-0181-43da-8677-39b8723024f6 button.colab-df-convert');\n",
              "        buttonEl.style.display =\n",
              "          google.colab.kernel.accessAllowed ? 'block' : 'none';\n",
              "\n",
              "        async function convertToInteractive(key) {\n",
              "          const element = document.querySelector('#df-683cec3e-0181-43da-8677-39b8723024f6');\n",
              "          const dataTable =\n",
              "            await google.colab.kernel.invokeFunction('convertToInteractive',\n",
              "                                                     [key], {});\n",
              "          if (!dataTable) return;\n",
              "\n",
              "          const docLinkHtml = 'Like what you see? Visit the ' +\n",
              "            '<a target=\"_blank\" href=https://colab.research.google.com/notebooks/data_table.ipynb>data table notebook</a>'\n",
              "            + ' to learn more about interactive tables.';\n",
              "          element.innerHTML = '';\n",
              "          dataTable['output_type'] = 'display_data';\n",
              "          await google.colab.output.renderOutput(dataTable, element);\n",
              "          const docLink = document.createElement('div');\n",
              "          docLink.innerHTML = docLinkHtml;\n",
              "          element.appendChild(docLink);\n",
              "        }\n",
              "      </script>\n",
              "    </div>\n",
              "  </div>\n",
              "  "
            ]
          },
          "metadata": {},
          "execution_count": 446
        }
      ]
    },
    {
      "cell_type": "code",
      "source": [
        "# Removendo os poucos dados que continuaram faltando\n",
        "df = df.dropna()"
      ],
      "metadata": {
        "id": "DU_x1J0i7u6z"
      },
      "execution_count": null,
      "outputs": []
    },
    {
      "cell_type": "code",
      "source": [
        "plt.subplots(figsize=(6.6, 6.5))\n",
        "x = df['Genero'].value_counts()\n",
        "plt.pie(x,\n",
        "        labels = x.index,\n",
        "        colors=['slategray', 'aliceblue', 'crimson'],\n",
        "        autopct='%1.i%%'\n",
        "        )\n",
        "plt.title('Genero')\n",
        "plt.legend()\n",
        "plt.show()"
      ],
      "metadata": {
        "colab": {
          "base_uri": "https://localhost:8080/",
          "height": 400
        },
        "id": "QdAlsl7nT9Cc",
        "outputId": "d3d16476-c00d-4880-8175-fce078c7be33"
      },
      "execution_count": null,
      "outputs": [
        {
          "output_type": "display_data",
          "data": {
            "text/plain": [
              "<Figure size 475.2x468 with 1 Axes>"
            ],
            "image/png": "[encoded data removed]"
          },
          "metadata": {}
        }
      ]
    },
    {
      "cell_type": "code",
      "source": [
        "plt.subplots(figsize=(6.6, 6.5))\n",
        "x = df['Casado'].value_counts()\n",
        "plt.pie(x,\n",
        "        labels = x.index,\n",
        "        colors=['lightblue', 'aliceblue'],\n",
        "        autopct='%1.i%%'\n",
        "        )\n",
        "plt.title('Casado')\n",
        "plt.legend()\n",
        "plt.show()"
      ],
      "metadata": {
        "colab": {
          "base_uri": "https://localhost:8080/",
          "height": 400
        },
        "id": "YZsPu7WHdeRe",
        "outputId": "94e20669-4752-4f82-8e00-849213aa29a5"
      },
      "execution_count": null,
      "outputs": [
        {
          "output_type": "display_data",
          "data": {
            "text/plain": [
              "<Figure size 475.2x468 with 1 Axes>"
            ],
            "image/png": "[encoded data removed]"
          },
          "metadata": {}
        }
      ]
    },
    {
      "cell_type": "code",
      "source": [
        "plt.subplots(figsize=(6.6, 6.5))\n",
        "x = df['Status_Emprestimo'].value_counts()\n",
        "plt.pie(x,\n",
        "        labels = x.index,\n",
        "        colors=['pink', 'white'],\n",
        "        autopct='%1.i%%'\n",
        "        )\n",
        "plt.title('Situação do Crédito')\n",
        "plt.legend()\n",
        "plt.show()"
      ],
      "metadata": {
        "colab": {
          "base_uri": "https://localhost:8080/",
          "height": 400
        },
        "id": "rEBmJoQzd6qg",
        "outputId": "e46a60ae-3b36-49fe-ddc4-54d81026be28"
      },
      "execution_count": null,
      "outputs": [
        {
          "output_type": "display_data",
          "data": {
            "text/plain": [
              "<Figure size 475.2x468 with 1 Axes>"
            ],
            "image/png": "[encoded data removed]"
          },
          "metadata": {}
        }
      ]
    },
    {
      "cell_type": "code",
      "source": [
        "plt.subplots(figsize=(6.6, 6.5))\n",
        "x = df['Dependentes']\n",
        "grafic = sns.countplot(x, \n",
        "              hue=x,\n",
        "              palette='dark:green')\n",
        "grafic.set(ylabel = '', title ='Quantidade de Dependentes')"
      ],
      "metadata": {
        "colab": {
          "base_uri": "https://localhost:8080/",
          "height": 503
        },
        "id": "2xYth_a7g1Uu",
        "outputId": "6fab1516-408a-41fc-87db-a9856dc2fc60"
      },
      "execution_count": null,
      "outputs": [
        {
          "output_type": "stream",
          "name": "stderr",
          "text": [
            "/usr/local/lib/python3.8/dist-packages/seaborn/_decorators.py:36: FutureWarning: Pass the following variable as a keyword arg: x. From version 0.12, the only valid positional argument will be `data`, and passing other arguments without an explicit keyword will result in an error or misinterpretation.\n",
            "  warnings.warn(\n"
          ]
        },
        {
          "output_type": "execute_result",
          "data": {
            "text/plain": [
              "[Text(0, 0.5, ''), Text(0.5, 1.0, 'Quantidade de Dependentes')]"
            ]
          },
          "metadata": {},
          "execution_count": 451
        },
        {
          "output_type": "display_data",
          "data": {
            "text/plain": [
              "<Figure size 475.2x468 with 1 Axes>"
            ],
            "image/png": "[encoded data removed]"
          },
          "metadata": {
            "needs_background": "light"
          }
        }
      ]
    },
    {
      "cell_type": "code",
      "source": [
        "plt.subplots(figsize=(6.6, 6.5))\n",
        "x = df['Prazo_Emprestimo']\n",
        "grafic = sns.countplot(x, \n",
        "              \n",
        "              palette='dark:green')\n",
        "grafic.set(ylabel = '', title ='Prazo dos emprestimos')"
      ],
      "metadata": {
        "colab": {
          "base_uri": "https://localhost:8080/",
          "height": 504
        },
        "id": "jDBr_DOMk5LY",
        "outputId": "d0f3d2a0-03ae-43ca-9078-888ef94ae82c"
      },
      "execution_count": null,
      "outputs": [
        {
          "output_type": "stream",
          "name": "stderr",
          "text": [
            "/usr/local/lib/python3.8/dist-packages/seaborn/_decorators.py:36: FutureWarning: Pass the following variable as a keyword arg: x. From version 0.12, the only valid positional argument will be `data`, and passing other arguments without an explicit keyword will result in an error or misinterpretation.\n",
            "  warnings.warn(\n"
          ]
        },
        {
          "output_type": "execute_result",
          "data": {
            "text/plain": [
              "[Text(0, 0.5, ''), Text(0.5, 1.0, 'Prazo dos emprestimos')]"
            ]
          },
          "metadata": {},
          "execution_count": 452
        },
        {
          "output_type": "display_data",
          "data": {
            "text/plain": [
              "<Figure size 475.2x468 with 1 Axes>"
            ],
            "image/png": "[encoded data removed]"
          },
          "metadata": {
            "needs_background": "light"
          }
        }
      ]
    },
    {
      "cell_type": "code",
      "source": [
        "plt.subplots(figsize=(6.6, 6.5))\n",
        "plt.boxplot(df['Renda_Mensal_Cliente'])\n",
        "plt.show()"
      ],
      "metadata": {
        "colab": {
          "base_uri": "https://localhost:8080/",
          "height": 401
        },
        "id": "DvnbD8RNnUaK",
        "outputId": "c96a9372-2ab5-43ab-8cb1-9bd34982ea1b"
      },
      "execution_count": null,
      "outputs": [
        {
          "output_type": "display_data",
          "data": {
            "text/plain": [
              "<Figure size 475.2x468 with 1 Axes>"
            ],
            "image/png": "[encoded data removed]"
          },
          "metadata": {
            "needs_background": "light"
          }
        }
      ]
    },
    {
      "cell_type": "code",
      "source": [
        "plt.subplots(figsize = (6.6, 6.5))\n",
        "df['Renda_Mensal_Cliente'].hist(color='slategray')\n",
        "plt.xlabel('')\n",
        "plt.ylabel('')\n",
        "plt.title('Renda do Cliente')\n",
        "plt.show()"
      ],
      "metadata": {
        "colab": {
          "base_uri": "https://localhost:8080/",
          "height": 417
        },
        "id": "HxdAsiszo4qy",
        "outputId": "61065962-9e3c-4467-a6fa-d1e13c19e5de"
      },
      "execution_count": null,
      "outputs": [
        {
          "output_type": "display_data",
          "data": {
            "text/plain": [
              "<Figure size 475.2x468 with 1 Axes>"
            ],
            "image/png": "[encoded data removed]"
          },
          "metadata": {
            "needs_background": "light"
          }
        }
      ]
    },
    {
      "cell_type": "code",
      "source": [
        "plt.subplots(figsize = (6.6, 6.5))\n",
        "grafic = sns.violinplot(x=df['Renda_Mensal_Cliente'])\n",
        "grafic.set(xlabel='', title='Renda mensal do cliente')"
      ],
      "metadata": {
        "colab": {
          "base_uri": "https://localhost:8080/",
          "height": 434
        },
        "id": "evVjBsO6tUpP",
        "outputId": "89be500b-c74f-40b2-e3ea-50eb615b445c"
      },
      "execution_count": null,
      "outputs": [
        {
          "output_type": "execute_result",
          "data": {
            "text/plain": [
              "[Text(0.5, 0, ''), Text(0.5, 1.0, 'Renda mensal do cliente')]"
            ]
          },
          "metadata": {},
          "execution_count": 455
        },
        {
          "output_type": "display_data",
          "data": {
            "text/plain": [
              "<Figure size 475.2x468 with 1 Axes>"
            ],
            "image/png": "[encoded data removed]"
          },
          "metadata": {
            "needs_background": "light"
          }
        }
      ]
    },
    {
      "cell_type": "code",
      "source": [
        "obj = df.select_dtypes(include='object').columns\n",
        "print(obj)"
      ],
      "metadata": {
        "colab": {
          "base_uri": "https://localhost:8080/"
        },
        "id": "Z_XE-OrgVqIk",
        "outputId": "00ae2ee8-5309-4fd7-b92e-cf2013d775f1"
      },
      "execution_count": null,
      "outputs": [
        {
          "output_type": "stream",
          "name": "stdout",
          "text": [
            "Index(['Loan_ID', 'Genero', 'Casado', 'Dependentes', 'Education', 'Autonomo',\n",
            "       'Property_Area', 'Status_Emprestimo'],\n",
            "      dtype='object')\n"
          ]
        }
      ]
    },
    {
      "cell_type": "code",
      "source": [
        "# Tratando algumas variaveis categoricas com LabelEncoder afim de transforma-las em numericas\n",
        "for variaveis_object in ['Genero', 'Casado', 'Education', 'Autonomo', 'Status_Emprestimo', 'Dependentes']:\n",
        "  df[variaveis_object] = LabelEncoder().fit_transform(df[variaveis_object])"
      ],
      "metadata": {
        "id": "qwu_VSc9WqnH"
      },
      "execution_count": null,
      "outputs": []
    },
    {
      "cell_type": "code",
      "source": [
        "# Utilizando OneHotEncoder afim de manter a integridade das variaveis evitando \n",
        "# que o modelo possa interpreta-las como ordinais caso fosse usado o LabelEncoder\n",
        "ohe = OneHotEncoder(cols=['Property_Area'], use_cat_names=True)\n",
        "df = ohe.fit_transform(df)"
      ],
      "metadata": {
        "id": "hnOk_jj7x4-r"
      },
      "execution_count": null,
      "outputs": []
    },
    {
      "cell_type": "code",
      "source": [
        "df['Renda_Mensal_Total'] = df['Renda_Mensal_Cliente'] + df['Renda_Mensal_Conjuge']"
      ],
      "metadata": {
        "id": "X1G9AnMw03Nq"
      },
      "execution_count": null,
      "outputs": []
    },
    {
      "cell_type": "code",
      "source": [
        "df = df.drop(['Loan_ID'], axis=1)"
      ],
      "metadata": {
        "id": "fJUVkYRqhREu"
      },
      "execution_count": null,
      "outputs": []
    },
    {
      "cell_type": "code",
      "source": [
        "corr = df.corr()\n",
        "fig, ax = plt.subplots(figsize=(20,7))\n",
        "sns.heatmap(corr,\n",
        "            xticklabels=corr.columns.values,\n",
        "            yticklabels=corr.columns.values,\n",
        "            annot=True, cmap='YlGnBu', annot_kws={'size':12}, fmt='.2f'\n",
        "            )"
      ],
      "metadata": {
        "colab": {
          "base_uri": "https://localhost:8080/",
          "height": 569
        },
        "id": "ZxOTuKRzun3D",
        "outputId": "f9cc4924-2f66-4330-d47e-a6f6bb43079e"
      },
      "execution_count": null,
      "outputs": [
        {
          "output_type": "execute_result",
          "data": {
            "text/plain": [
              "<matplotlib.axes._subplots.AxesSubplot at 0x7f5f1a9ef640>"
            ]
          },
          "metadata": {},
          "execution_count": 461
        },
        {
          "output_type": "display_data",
          "data": {
            "text/plain": [
              "<Figure size 1440x504 with 2 Axes>"
            ],
            "image/png": "[encoded data removed]"
          },
          "metadata": {
            "needs_background": "light"
          }
        }
      ]
    },
    {
      "cell_type": "code",
      "source": [
        "df.info()"
      ],
      "metadata": {
        "colab": {
          "base_uri": "https://localhost:8080/"
        },
        "id": "kR5sab8t6jb1",
        "outputId": "c2afe956-5016-44f7-c367-62f85f97de9d"
      },
      "execution_count": null,
      "outputs": [
        {
          "output_type": "stream",
          "name": "stdout",
          "text": [
            "<class 'pandas.core.frame.DataFrame'>\n",
            "Int64Index: 613 entries, 1 to 613\n",
            "Data columns (total 15 columns):\n",
            " #   Column                     Non-Null Count  Dtype  \n",
            "---  ------                     --------------  -----  \n",
            " 0   Genero                     613 non-null    int64  \n",
            " 1   Casado                     613 non-null    int64  \n",
            " 2   Dependentes                613 non-null    int64  \n",
            " 3   Education                  613 non-null    int64  \n",
            " 4   Autonomo                   613 non-null    int64  \n",
            " 5   Renda_Mensal_Cliente       613 non-null    int64  \n",
            " 6   Renda_Mensal_Conjuge       613 non-null    float64\n",
            " 7   Valor_Emprestimo           613 non-null    float64\n",
            " 8   Prazo_Emprestimo           613 non-null    float64\n",
            " 9   Credito_Atende_Diretrizes  613 non-null    float64\n",
            " 10  Property_Area_Rural        613 non-null    int64  \n",
            " 11  Property_Area_Urban        613 non-null    int64  \n",
            " 12  Property_Area_Semiurban    613 non-null    int64  \n",
            " 13  Status_Emprestimo          613 non-null    int64  \n",
            " 14  Renda_Mensal_Total         613 non-null    float64\n",
            "dtypes: float64(5), int64(10)\n",
            "memory usage: 76.6 KB\n"
          ]
        }
      ]
    },
    {
      "cell_type": "code",
      "source": [
        "from sklearn.ensemble import RandomForestClassifier\n",
        "from sklearn.metrics import accuracy_score, f1_score, recall_score\n",
        "from sklearn.model_selection import train_test_split"
      ],
      "metadata": {
        "id": "vUeYZZO9iiI5"
      },
      "execution_count": null,
      "outputs": []
    },
    {
      "cell_type": "code",
      "source": [
        "X = df.drop(['Status_Emprestimo'], axis=1)\n",
        "y = df['Status_Emprestimo']"
      ],
      "metadata": {
        "id": "izsbZVMtjsgn"
      },
      "execution_count": null,
      "outputs": []
    },
    {
      "cell_type": "code",
      "source": [
        "X_train, X_test, y_train, y_test = train_test_split(X, y, test_size=0.13)"
      ],
      "metadata": {
        "id": "fjjdSMN9kHBl"
      },
      "execution_count": null,
      "outputs": []
    },
    {
      "cell_type": "code",
      "source": [
        "rf_model = RandomForestClassifier(random_state=8)"
      ],
      "metadata": {
        "id": "voD38x0ljDqX"
      },
      "execution_count": null,
      "outputs": []
    },
    {
      "cell_type": "code",
      "source": [
        "rf_model.fit(X_train, y_train)"
      ],
      "metadata": {
        "colab": {
          "base_uri": "https://localhost:8080/"
        },
        "id": "pVGJ-Oe-kZKC",
        "outputId": "1a5a51df-a928-48ad-fe03-eeb301723727"
      },
      "execution_count": null,
      "outputs": [
        {
          "output_type": "execute_result",
          "data": {
            "text/plain": [
              "RandomForestClassifier(random_state=8)"
            ]
          },
          "metadata": {},
          "execution_count": 467
        }
      ]
    },
    {
      "cell_type": "code",
      "source": [
        "y_pred = rf_model.predict(X_test)"
      ],
      "metadata": {
        "id": "A4ZJjfgQkfbm"
      },
      "execution_count": null,
      "outputs": []
    },
    {
      "cell_type": "code",
      "source": [
        "accuracy_score(y_test, y_pred), recall_score(y_test, y_pred), f1_score(y_test, y_pred)"
      ],
      "metadata": {
        "colab": {
          "base_uri": "https://localhost:8080/"
        },
        "id": "KXTYLN7FkwO1",
        "outputId": "fc661be3-3af9-4d6f-e3d2-6f402d6fb8af"
      },
      "execution_count": null,
      "outputs": [
        {
          "output_type": "execute_result",
          "data": {
            "text/plain": [
              "(0.85, 0.9473684210526315, 0.9)"
            ]
          },
          "metadata": {},
          "execution_count": 469
        }
      ]
    },
    {
      "cell_type": "code",
      "source": [
        "def metrics(y_test, y_pred):\n",
        "    acuracia = accuracy_score(y_test, y_pred)\n",
        "    recall = recall_score(y_test, y_pred)\n",
        "    f1 = f1_score(y_test, y_pred)\n",
        "    return acuracia, recall, f1"
      ],
      "metadata": {
        "id": "V43rgayalmzD"
      },
      "execution_count": null,
      "outputs": []
    },
    {
      "cell_type": "code",
      "source": [
        "# Uma melhor maneira de apresentar as métricas\n",
        "metrics(y_test, y_pred)"
      ],
      "metadata": {
        "colab": {
          "base_uri": "https://localhost:8080/"
        },
        "id": "6ReLtXJfl9lH",
        "outputId": "9d08d830-61df-420f-bde4-10ee9347751b"
      },
      "execution_count": null,
      "outputs": [
        {
          "output_type": "execute_result",
          "data": {
            "text/plain": [
              "(0.85, 0.9473684210526315, 0.9)"
            ]
          },
          "metadata": {},
          "execution_count": 471
        }
      ]
    },
    {
      "cell_type": "code",
      "source": [
        "from sklearn.model_selection import GridSearchCV"
      ],
      "metadata": {
        "id": "WWLo_GpyvRHE"
      },
      "execution_count": null,
      "outputs": []
    },
    {
      "cell_type": "code",
      "source": [
        "# Iniciando o Tuning de Parametros com GridSearch\n",
        "parametros = {\n",
        "    'min_samples_leaf':(1, 4),\n",
        "    'min_samples_split':(2, 10), \n",
        "    'n_estimators':(100, 300, 500, 700)\n",
        "}"
      ],
      "metadata": {
        "id": "7VUOoeaGmzPJ"
      },
      "execution_count": null,
      "outputs": []
    },
    {
      "cell_type": "code",
      "source": [
        "model_grid = GridSearchCV(rf_model, parametros)\n",
        "model_grid.fit(X_train, y_train)\n",
        "GridSearchCV(estimator=RandomForestClassifier(random_state=8),\n",
        "             param_grid=parametros,\n",
        "             n_jobs=-1\n",
        "             )"
      ],
      "metadata": {
        "colab": {
          "base_uri": "https://localhost:8080/"
        },
        "id": "WcCe5urGmI7r",
        "outputId": "9e46abe2-708c-4563-cf90-68d4355d3244"
      },
      "execution_count": null,
      "outputs": [
        {
          "output_type": "execute_result",
          "data": {
            "text/plain": [
              "GridSearchCV(estimator=RandomForestClassifier(random_state=8), n_jobs=-1,\n",
              "             param_grid={'min_samples_leaf': (1, 4),\n",
              "                         'min_samples_split': (2, 10),\n",
              "                         'n_estimators': (100, 300, 500, 700)})"
            ]
          },
          "metadata": {},
          "execution_count": 474
        }
      ]
    },
    {
      "cell_type": "code",
      "source": [
        "model_grid.best_params_"
      ],
      "metadata": {
        "colab": {
          "base_uri": "https://localhost:8080/"
        },
        "id": "rxihqzB8qaP9",
        "outputId": "1209f6f8-5102-4cb3-e7a9-d8b74f290c3b"
      },
      "execution_count": null,
      "outputs": [
        {
          "output_type": "execute_result",
          "data": {
            "text/plain": [
              "{'min_samples_leaf': 1, 'min_samples_split': 10, 'n_estimators': 300}"
            ]
          },
          "metadata": {},
          "execution_count": 475
        }
      ]
    },
    {
      "cell_type": "code",
      "source": [
        "rf = model_grid.best_estimator_"
      ],
      "metadata": {
        "id": "wX6GBy9NqifF"
      },
      "execution_count": null,
      "outputs": []
    },
    {
      "cell_type": "code",
      "source": [
        "y_pred = rf.predict(X_test)"
      ],
      "metadata": {
        "id": "MvEs6oiqrJUB"
      },
      "execution_count": null,
      "outputs": []
    },
    {
      "cell_type": "code",
      "source": [
        "metrics(y_test, y_pred)"
      ],
      "metadata": {
        "colab": {
          "base_uri": "https://localhost:8080/"
        },
        "id": "pfOcnp5FrOGH",
        "outputId": "7b920bd4-13ee-404a-8e4d-4124133df41f"
      },
      "execution_count": null,
      "outputs": [
        {
          "output_type": "execute_result",
          "data": {
            "text/plain": [
              "(0.875, 0.9649122807017544, 0.9166666666666667)"
            ]
          },
          "metadata": {},
          "execution_count": 478
        }
      ]
    }
  ]
}